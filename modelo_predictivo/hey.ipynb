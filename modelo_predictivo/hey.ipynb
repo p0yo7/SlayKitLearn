{
 "cells": [
  {
   "cell_type": "code",
   "execution_count": 1,
   "id": "7a7e95c9",
   "metadata": {},
   "outputs": [],
   "source": [
    "import pandas as pd\n",
    "import numpy as np\n",
    "import matplotlib.pyplot as plt\n",
    "import seaborn as sns\n",
    "from sklearn.model_selection import train_test_split\n",
    "from sklearn.impute import SimpleImputer\n",
    "from sklearn.linear_model import LogisticRegression\n",
    "from sklearn.tree import DecisionTreeClassifier\n",
    "from sklearn.ensemble import RandomForestClassifier, AdaBoostClassifier, GradientBoostingClassifier\n",
    "from xgboost import XGBClassifier\n",
    "from sklearn.model_selection import cross_val_score, cross_validate, StratifiedKFold\n",
    "from sklearn.model_selection import GridSearchCV, RandomizedSearchCV\n",
    "from sklearn.metrics import classification_report\n",
    "from sklearn.preprocessing import LabelEncoder\n",
    "from pandas.tseries.offsets import DateOffset\n",
    "from sklearn.linear_model import LinearRegression\n",
    "import numpy as np\n",
    "import pandas as pd\n",
    "from pandas.tseries.offsets import DateOffset"
   ]
  },
  {
   "cell_type": "code",
   "execution_count": 2,
   "id": "d93c34c4",
   "metadata": {},
   "outputs": [],
   "source": [
    "# Load the CSV files\n",
    "df_clientes = pd.read_csv('clientes.csv')\n",
    "df_transacciones = pd.read_csv('transacciones.csv')\n",
    "\n",
    "# Merge the dataframes on the common 'id' column\n",
    "merged_df = pd.merge(df_clientes, df_transacciones, on='id')"
   ]
  },
  {
   "cell_type": "code",
   "execution_count": 3,
   "id": "afe9a2b9",
   "metadata": {},
   "outputs": [
    {
     "name": "stdout",
     "output_type": "stream",
     "text": [
      "<class 'pandas.core.frame.DataFrame'>\n",
      "RangeIndex: 346011 entries, 0 to 346010\n",
      "Data columns (total 13 columns):\n",
      " #   Column                 Non-Null Count   Dtype  \n",
      "---  ------                 --------------   -----  \n",
      " 0   id                     346011 non-null  object \n",
      " 1   fecha_nacimiento       346011 non-null  object \n",
      " 2   fecha_alta             346011 non-null  object \n",
      " 3   id_municipio           346011 non-null  int64  \n",
      " 4   id_estado              346011 non-null  int64  \n",
      " 5   tipo_persona           346011 non-null  object \n",
      " 6   genero                 346011 non-null  object \n",
      " 7   actividad_empresarial  346011 non-null  object \n",
      " 8   fecha                  346011 non-null  object \n",
      " 9   comercio               346011 non-null  object \n",
      " 10  giro_comercio          340423 non-null  object \n",
      " 11  tipo_venta             346011 non-null  object \n",
      " 12  monto                  346011 non-null  float64\n",
      "dtypes: float64(1), int64(2), object(10)\n",
      "memory usage: 34.3+ MB\n"
     ]
    }
   ],
   "source": [
    "merged_df.info()"
   ]
  },
  {
   "cell_type": "code",
   "execution_count": 4,
   "id": "e0af3d61",
   "metadata": {},
   "outputs": [
    {
     "data": {
      "application/vnd.microsoft.datawrangler.viewer.v0+json": {
       "columns": [
        {
         "name": "index",
         "rawType": "object",
         "type": "string"
        },
        {
         "name": "0",
         "rawType": "int64",
         "type": "integer"
        }
       ],
       "ref": "5acca8c1-fef4-4229-98cc-3e0344988082",
       "rows": [
        [
         "id",
         "0"
        ],
        [
         "fecha_nacimiento",
         "0"
        ],
        [
         "fecha_alta",
         "0"
        ],
        [
         "id_municipio",
         "0"
        ],
        [
         "id_estado",
         "0"
        ],
        [
         "tipo_persona",
         "0"
        ],
        [
         "genero",
         "0"
        ],
        [
         "actividad_empresarial",
         "0"
        ],
        [
         "fecha",
         "0"
        ],
        [
         "comercio",
         "0"
        ],
        [
         "giro_comercio",
         "5588"
        ],
        [
         "tipo_venta",
         "0"
        ],
        [
         "monto",
         "0"
        ]
       ],
       "shape": {
        "columns": 1,
        "rows": 13
       }
      },
      "text/plain": [
       "id                          0\n",
       "fecha_nacimiento            0\n",
       "fecha_alta                  0\n",
       "id_municipio                0\n",
       "id_estado                   0\n",
       "tipo_persona                0\n",
       "genero                      0\n",
       "actividad_empresarial       0\n",
       "fecha                       0\n",
       "comercio                    0\n",
       "giro_comercio            5588\n",
       "tipo_venta                  0\n",
       "monto                       0\n",
       "dtype: int64"
      ]
     },
     "execution_count": 4,
     "metadata": {},
     "output_type": "execute_result"
    }
   ],
   "source": [
    "merged_df.isnull().sum()"
   ]
  },
  {
   "cell_type": "markdown",
   "id": "a0ec63b2",
   "metadata": {},
   "source": [
    "### Removing columns"
   ]
  },
  {
   "cell_type": "code",
   "execution_count": 5,
   "id": "fc50968b",
   "metadata": {},
   "outputs": [],
   "source": [
    "cleaned_df = merged_df.drop([\"id_estado\", \"id_municipio\", \"fecha_alta\", \"fecha_nacimiento\", \"actividad_empresarial\", \"tipo_venta\", \"giro_comercio\", \"tipo_persona\", \"genero\"], axis=1)"
   ]
  },
  {
   "cell_type": "code",
   "execution_count": 6,
   "id": "65b720ad",
   "metadata": {},
   "outputs": [
    {
     "name": "stdout",
     "output_type": "stream",
     "text": [
      "<class 'pandas.core.frame.DataFrame'>\n",
      "RangeIndex: 346011 entries, 0 to 346010\n",
      "Data columns (total 4 columns):\n",
      " #   Column    Non-Null Count   Dtype  \n",
      "---  ------    --------------   -----  \n",
      " 0   id        346011 non-null  object \n",
      " 1   fecha     346011 non-null  object \n",
      " 2   comercio  346011 non-null  object \n",
      " 3   monto     346011 non-null  float64\n",
      "dtypes: float64(1), object(3)\n",
      "memory usage: 10.6+ MB\n"
     ]
    }
   ],
   "source": [
    "cleaned_df.info()"
   ]
  },
  {
   "cell_type": "code",
   "execution_count": 7,
   "id": "38679ad5",
   "metadata": {},
   "outputs": [
    {
     "data": {
      "application/vnd.microsoft.datawrangler.viewer.v0+json": {
       "columns": [
        {
         "name": "index",
         "rawType": "object",
         "type": "string"
        },
        {
         "name": "monto",
         "rawType": "float64",
         "type": "float"
        }
       ],
       "ref": "5d863c78-3972-4efb-a503-9fb7ddeb9359",
       "rows": [
        [
         "count",
         "346011.0"
        ],
        [
         "mean",
         "42.2906998332423"
        ],
        [
         "std",
         "94.55441386639438"
        ],
        [
         "min",
         "1.39"
        ],
        [
         "25%",
         "9.32"
        ],
        [
         "50%",
         "17.93"
        ],
        [
         "75%",
         "39.43"
        ],
        [
         "max",
         "2297.88"
        ]
       ],
       "shape": {
        "columns": 1,
        "rows": 8
       }
      },
      "text/html": [
       "<div>\n",
       "<style scoped>\n",
       "    .dataframe tbody tr th:only-of-type {\n",
       "        vertical-align: middle;\n",
       "    }\n",
       "\n",
       "    .dataframe tbody tr th {\n",
       "        vertical-align: top;\n",
       "    }\n",
       "\n",
       "    .dataframe thead th {\n",
       "        text-align: right;\n",
       "    }\n",
       "</style>\n",
       "<table border=\"1\" class=\"dataframe\">\n",
       "  <thead>\n",
       "    <tr style=\"text-align: right;\">\n",
       "      <th></th>\n",
       "      <th>monto</th>\n",
       "    </tr>\n",
       "  </thead>\n",
       "  <tbody>\n",
       "    <tr>\n",
       "      <th>count</th>\n",
       "      <td>346011.000000</td>\n",
       "    </tr>\n",
       "    <tr>\n",
       "      <th>mean</th>\n",
       "      <td>42.290700</td>\n",
       "    </tr>\n",
       "    <tr>\n",
       "      <th>std</th>\n",
       "      <td>94.554414</td>\n",
       "    </tr>\n",
       "    <tr>\n",
       "      <th>min</th>\n",
       "      <td>1.390000</td>\n",
       "    </tr>\n",
       "    <tr>\n",
       "      <th>25%</th>\n",
       "      <td>9.320000</td>\n",
       "    </tr>\n",
       "    <tr>\n",
       "      <th>50%</th>\n",
       "      <td>17.930000</td>\n",
       "    </tr>\n",
       "    <tr>\n",
       "      <th>75%</th>\n",
       "      <td>39.430000</td>\n",
       "    </tr>\n",
       "    <tr>\n",
       "      <th>max</th>\n",
       "      <td>2297.880000</td>\n",
       "    </tr>\n",
       "  </tbody>\n",
       "</table>\n",
       "</div>"
      ],
      "text/plain": [
       "               monto\n",
       "count  346011.000000\n",
       "mean       42.290700\n",
       "std        94.554414\n",
       "min         1.390000\n",
       "25%         9.320000\n",
       "50%        17.930000\n",
       "75%        39.430000\n",
       "max      2297.880000"
      ]
     },
     "execution_count": 7,
     "metadata": {},
     "output_type": "execute_result"
    }
   ],
   "source": [
    "cleaned_df.describe()"
   ]
  },
  {
   "cell_type": "code",
   "execution_count": 8,
   "id": "87b2f5d2",
   "metadata": {},
   "outputs": [
    {
     "data": {
      "application/vnd.microsoft.datawrangler.viewer.v0+json": {
       "columns": [
        {
         "name": "index",
         "rawType": "object",
         "type": "string"
        },
        {
         "name": "0",
         "rawType": "int64",
         "type": "integer"
        }
       ],
       "ref": "41debe3b-c6f1-4247-b311-eb0622c21fc0",
       "rows": [
        [
         "id",
         "0"
        ],
        [
         "fecha",
         "0"
        ],
        [
         "comercio",
         "0"
        ],
        [
         "monto",
         "0"
        ]
       ],
       "shape": {
        "columns": 1,
        "rows": 4
       }
      },
      "text/plain": [
       "id          0\n",
       "fecha       0\n",
       "comercio    0\n",
       "monto       0\n",
       "dtype: int64"
      ]
     },
     "execution_count": 8,
     "metadata": {},
     "output_type": "execute_result"
    }
   ],
   "source": [
    "cleaned_df.isnull().sum()"
   ]
  },
  {
   "cell_type": "markdown",
   "id": "6df14fe3",
   "metadata": {},
   "source": [
    "### Transforming"
   ]
  },
  {
   "cell_type": "code",
   "execution_count": 9,
   "id": "284fffe3",
   "metadata": {},
   "outputs": [],
   "source": [
    "cleaned_df['fecha'] = pd.to_datetime(cleaned_df['fecha'], format='%m/%d/%Y')"
   ]
  },
  {
   "cell_type": "code",
   "execution_count": 10,
   "id": "81c6914e",
   "metadata": {},
   "outputs": [],
   "source": [
    "cleaned_df['anio'] = cleaned_df['fecha'].dt.year\n",
    "cleaned_df['mes'] = cleaned_df['fecha'].dt.month\n",
    "cleaned_df['dia'] = cleaned_df['fecha'].dt.day"
   ]
  },
  {
   "cell_type": "code",
   "execution_count": 11,
   "id": "b4dce587",
   "metadata": {},
   "outputs": [],
   "source": [
    "cleaned_df.sort_values(by=['id', 'comercio', 'fecha'], inplace=True)\n",
    "cleaned_df = cleaned_df.drop('fecha', axis=1)"
   ]
  },
  {
   "cell_type": "code",
   "execution_count": 12,
   "id": "49c02341",
   "metadata": {},
   "outputs": [],
   "source": [
    "encoder = LabelEncoder()\n",
    "cleaned_df['comercio_encoded'] = encoder.fit_transform(cleaned_df['comercio'])"
   ]
  },
  {
   "cell_type": "code",
   "execution_count": 13,
   "id": "b5c65678",
   "metadata": {},
   "outputs": [
    {
     "name": "stdout",
     "output_type": "stream",
     "text": [
      "<class 'pandas.core.frame.DataFrame'>\n",
      "Index: 346011 entries, 332111 to 215186\n",
      "Data columns (total 7 columns):\n",
      " #   Column            Non-Null Count   Dtype  \n",
      "---  ------            --------------   -----  \n",
      " 0   id                346011 non-null  object \n",
      " 1   comercio          346011 non-null  object \n",
      " 2   monto             346011 non-null  float64\n",
      " 3   anio              346011 non-null  int32  \n",
      " 4   mes               346011 non-null  int32  \n",
      " 5   dia               346011 non-null  int32  \n",
      " 6   comercio_encoded  346011 non-null  int64  \n",
      "dtypes: float64(1), int32(3), int64(1), object(2)\n",
      "memory usage: 17.2+ MB\n"
     ]
    }
   ],
   "source": [
    "cleaned_df.info()"
   ]
  },
  {
   "cell_type": "markdown",
   "id": "0d998d5f",
   "metadata": {},
   "source": [
    "### Modelo"
   ]
  },
  {
   "cell_type": "code",
   "execution_count": 14,
   "id": "5231de74",
   "metadata": {},
   "outputs": [
    {
     "name": "stdout",
     "output_type": "stream",
     "text": [
      "              precision    recall  f1-score   support\n",
      "\n",
      "           0       0.99      0.99      0.99     81039\n",
      "           1       0.82      0.79      0.81      5464\n",
      "\n",
      "    accuracy                           0.98     86503\n",
      "   macro avg       0.90      0.89      0.90     86503\n",
      "weighted avg       0.98      0.98      0.98     86503\n",
      "\n"
     ]
    }
   ],
   "source": [
    "# Step 1: Create a heuristic label for subscriptions\n",
    "df = cleaned_df.copy()\n",
    "\n",
    "# Combine into a date\n",
    "df['fecha'] = pd.to_datetime(dict(year=df['anio'], month=df['mes'], day=df['dia']), errors='coerce')\n",
    "\n",
    "# Group to calculate features per (id, comercio)\n",
    "features = df.groupby(['id', 'comercio']).agg({\n",
    "    'fecha': ['min', 'max', 'nunique', 'count'],\n",
    "    'monto': ['mean', 'std']\n",
    "}).reset_index()\n",
    "\n",
    "features.columns = ['id', 'comercio', 'fecha_min', 'fecha_max', 'fecha_nunique', 'fecha_count', 'monto_mean', 'monto_std']\n",
    "\n",
    "# Heuristic: If they paid the same comercio ≥3 times on unique dates, it's likely a subscription\n",
    "features['is_subscription'] = ((features['fecha_count'] >= 3) &\n",
    "                               (features['monto_std'] < 0.5)).astype(int)\n",
    "\n",
    "# Merge label back to main df\n",
    "df = df.merge(features[['id', 'comercio', 'is_subscription']], on=['id', 'comercio'], how='left')\n",
    "\n",
    "# Drop NA (if any) from label\n",
    "df = df.dropna(subset=['is_subscription'])\n",
    "\n",
    "# Step 2: Build a feature set\n",
    "X = df[['comercio_encoded', 'anio', 'mes', 'dia', 'monto']]\n",
    "y = df['is_subscription']\n",
    "\n",
    "# Train/test split\n",
    "X_train, X_test, y_train, y_test = train_test_split(X, y, stratify=y, random_state=42)\n",
    "\n",
    "# Step 3: Train Random Forest\n",
    "from sklearn.ensemble import RandomForestClassifier\n",
    "\n",
    "model = RandomForestClassifier(n_estimators=100, random_state=42)\n",
    "model.fit(X_train, y_train)\n",
    "\n",
    "# Evaluate\n",
    "y_pred = model.predict(X_test)\n",
    "print(classification_report(y_test, y_pred))"
   ]
  },
  {
   "cell_type": "code",
   "execution_count": 15,
   "id": "b2639e05",
   "metadata": {},
   "outputs": [],
   "source": [
    "# def monthly_spending(user_df):\n",
    "#      # === Regression Model for Monthly Spending ===\n",
    "#     monthly_spending = user_df.groupby(['anio', 'mes'])['monto'].sum().reset_index()\n",
    "#     monthly_spending['month_index'] = np.arange(len(monthly_spending)) \n",
    "\n",
    "#     # Train regression model\n",
    "#     X_train = monthly_spending[['month_index']]\n",
    "#     y_train = monthly_spending['monto']\n",
    "#     reg = LinearRegression()\n",
    "#     reg.fit(X_train, y_train)\n",
    "\n",
    "#     # Predict next month's total subscription spending\n",
    "#     next_index = np.array([[monthly_spending['month_index'].max() + 1]])\n",
    "#     predicted_total_spending = reg.predict(next_index)[0]\n",
    "#     print(f\"Predicted total spending for next month: {predicted_total_spending}\")\n",
    "#     return predicted_total_spending"
   ]
  },
  {
   "cell_type": "code",
   "execution_count": 16,
   "id": "6ec76d6c",
   "metadata": {},
   "outputs": [],
   "source": [
    "def predict_next_month_spending(user_df):\n",
    "    results = {}\n",
    "\n",
    "    # === Total Monthly Spending Prediction ===\n",
    "    monthly_spending = user_df.groupby(['anio', 'mes'])['monto'].sum().reset_index()\n",
    "    monthly_spending = monthly_spending.sort_values(['anio', 'mes'])\n",
    "    monthly_spending['month_index'] = np.arange(len(monthly_spending))\n",
    "\n",
    "    X_total = monthly_spending[['month_index']]\n",
    "    y_total = monthly_spending['monto']\n",
    "    reg_total = LinearRegression()\n",
    "    reg_total.fit(X_total, y_total)\n",
    "\n",
    "    next_month_index = np.array([[monthly_spending['month_index'].max() + 1]])\n",
    "    predicted_total = reg_total.predict(next_month_index)[0]\n",
    "    results['total'] = predicted_total\n",
    "\n",
    "    print(f\"📈 Predicted total spending next month: ${predicted_total:.2f}\")\n",
    "\n",
    "    # === Per-Merchant Monthly Spending Prediction ===\n",
    "    merchants = user_df['comercio'].unique()\n",
    "    results['per_merchant'] = {}\n",
    "\n",
    "    for merchant in merchants:\n",
    "        merchant_df = user_df[user_df['comercio'] == merchant]\n",
    "        monthly = merchant_df.groupby(['anio', 'mes'])['monto'].sum().reset_index()\n",
    "        monthly = monthly.sort_values(['anio', 'mes'])\n",
    "        monthly['month_index'] = np.arange(len(monthly))\n",
    "\n",
    "        if len(monthly) < 2:\n",
    "            # Not enough data points for regression\n",
    "            results['per_merchant'][merchant] = monthly['monto'].iloc[-1]\n",
    "            continue\n",
    "\n",
    "        X = monthly[['month_index']]\n",
    "        y = monthly['monto']\n",
    "        reg = LinearRegression()\n",
    "        reg.fit(X, y)\n",
    "\n",
    "        next_idx = np.array([[monthly['month_index'].max() + 1]])\n",
    "        pred = reg.predict(next_idx)[0]\n",
    "        if pred < 0:\n",
    "            continue\n",
    "        results['per_merchant'][merchant] = pred\n",
    "\n",
    "        print(f\"🔸 {merchant}: Predicted spending next month: ${pred:.2f}\")\n",
    "\n",
    "    return predicted_total, results"
   ]
  },
  {
   "cell_type": "code",
   "execution_count": 17,
   "id": "8f3894f4",
   "metadata": {},
   "outputs": [],
   "source": [
    "def iconic_expense(user_df):\n",
    "    unique_counts = user_df['comercio'].value_counts()\n",
    "    most_unique_commerce = unique_counts.idxmin()\n",
    "    most_unique_count = unique_counts.min()\n",
    "\n",
    "    return most_unique_commerce, most_unique_count"
   ]
  },
  {
   "cell_type": "code",
   "execution_count": null,
   "id": "6d06db5d",
   "metadata": {},
   "outputs": [],
   "source": [
    "def predict_next_month_subscriptions(user_id):\n",
    "    # Filter transactions for the user\n",
    "    user_df = df[df['id'] == user_id].copy()\n",
    "    if user_df.empty:\n",
    "        print(\"No transactions found for user:\", user_id)\n",
    "        return pd.DataFrame(), 0.0\n",
    "\n",
    "    # Predict current subscriptions\n",
    "    feature_columns = ['comercio_encoded', 'anio', 'mes', 'dia', 'monto']\n",
    "    user_df['subscription_prediction'] = model.predict(user_df[feature_columns])\n",
    "    predicted_subs = user_df[user_df['subscription_prediction'] == 1].copy()\n",
    "    if predicted_subs.empty:\n",
    "        print(\"No subscriptions predicted for this user\")\n",
    "        return pd.DataFrame(), 0.0\n",
    "\n",
    "    # Get most recent date\n",
    "    most_recent_date = user_df['fecha'].max()\n",
    "    \n",
    "    # Cutoff date (3 months back)\n",
    "    cutoff_date = most_recent_date - DateOffset(months=3)\n",
    "\n",
    "    # Filter to only subscriptions with activity in the last 3 months\n",
    "    recent_subs = predicted_subs[predicted_subs['fecha'] >= cutoff_date].copy()\n",
    "    if recent_subs.empty:\n",
    "        print(\"No recent subscriptions found for this user\")\n",
    "        return pd.DataFrame(), 0.0\n",
    "\n",
    "    # Get next month and year\n",
    "    last_month = most_recent_date.month\n",
    "    next_month = last_month + 1 if last_month < 12 else 1\n",
    "    next_year = most_recent_date.year if next_month != 1 else most_recent_date.year + 1\n",
    "\n",
    "    # --- Prepare next month subscription candidates with all frequent days ---\n",
    "    # Get all frequent days (modes) per comercio\n",
    "    frequent_days = recent_subs.groupby('comercio')['dia'].agg(lambda x: x.mode().tolist()).reset_index()\n",
    "\n",
    "    # Explode to have one row per frequent day\n",
    "    frequent_days = frequent_days.explode('dia')\n",
    "\n",
    "    # Base features (drop duplicates)\n",
    "    base = recent_subs.drop_duplicates(subset='comercio', keep='first').drop(columns='dia')\n",
    "\n",
    "    # Merge back to get a row per (comercio, frequent day)\n",
    "    next_month_candidates = frequent_days.merge(base, on='comercio')\n",
    "    next_month_candidates['mes'] = next_month\n",
    "    next_month_candidates['anio'] = next_year\n",
    "\n",
    "    # Predict subscriptions for next month\n",
    "    X_next_month = next_month_candidates[feature_columns]\n",
    "    next_month_candidates['subscription_prediction'] = model.predict(X_next_month)\n",
    "    next_month_subs = next_month_candidates[next_month_candidates['subscription_prediction'] == 1]\n",
    "   \n",
    "    return next_month_subs[['comercio', 'monto', 'anio', 'mes', 'dia']]"
   ]
  },
  {
   "cell_type": "code",
   "execution_count": 19,
   "id": "6a7590f5",
   "metadata": {},
   "outputs": [],
   "source": [
    "def all_predictions(user_id):\n",
    "    user_df = df[df['id'] == user_id].copy()\n",
    "    if user_df.empty:\n",
    "        print(\"No transactions found for user:\", user_id)\n",
    "        return None\n",
    "\n",
    "    # Predict next month spending\n",
    "    total_spending, per_merchant_spending = predict_next_month_spending(user_df)\n",
    "\n",
    "    # Predict subscriptions\n",
    "    predicted_subs = predict_next_month_subscriptions(user_id)\n",
    "\n",
    "    # Iconic expense\n",
    "    iconic_commerce, iconic_count = iconic_expense(user_df)\n",
    "\n",
    "    return {\n",
    "        'total_spending': total_spending,\n",
    "        'per_merchant_spending': per_merchant_spending,\n",
    "        'predicted_subs': predicted_subs,\n",
    "        'iconic_commerce': iconic_commerce,\n",
    "        'iconic_count': iconic_count\n",
    "    }"
   ]
  },
  {
   "cell_type": "code",
   "execution_count": 20,
   "id": "904c325f",
   "metadata": {},
   "outputs": [
    {
     "name": "stdout",
     "output_type": "stream",
     "text": [
      "📈 Predicted total spending next month: $1931.46\n",
      "🔸 ALIEXPRESS: Predicted spending next month: $556.79\n",
      "🔸 AMAZON: Predicted spending next month: $134.85\n",
      "🔸 AMAZON PRIME: Predicted spending next month: $21.45\n",
      "🔸 CRUNCHYROLL: Predicted spending next month: $17.36\n",
      "🔸 DIDI: Predicted spending next month: $24.21\n",
      "🔸 DIDIFOOD: Predicted spending next month: $30.48\n",
      "🔸 MELIMAS: Predicted spending next month: $18.58\n",
      "🔸 MERCADO PAGO: Predicted spending next month: $1095.74\n",
      "🔸 MERCADOPAGO: Predicted spending next month: $594.59\n",
      "🔸 NETFLIX: Predicted spending next month: $36.58\n",
      "🔸 RAPPI: Predicted spending next month: $92.63\n",
      "🔸 RAPPIPRO: Predicted spending next month: $12.76\n",
      "🔸 TOTALPLAY: Predicted spending next month: $101.33\n",
      "🔸 UNDOSTRES: Predicted spending next month: $104.06\n",
      "Cutoff date: 2022-10-30 00:00:00\n",
      "Most recent date: 2023-01-30 00:00:00\n",
      "Next month: 2, Next year: 2023\n",
      "Total Spending Next Month: 1931.463076923077\n",
      "Per Merchant Spending Next Month: {'total': np.float64(1931.463076923077), 'per_merchant': {'ALIEXPRESS': np.float64(556.7933333333332), 'AMAZON': np.float64(134.85466666666667), 'AMAZON PRIME': np.float64(21.45230769230769), 'CRUNCHYROLL': np.float64(17.360000000000007), 'DIDI': np.float64(24.209999999999994), 'DIDI FOOD': np.float64(46.32), 'DIDI RIDES': np.float64(23.22), 'DIDIFOOD': np.float64(30.479000000000006), 'GOOGLE': np.float64(3.3), 'MELIMAS': np.float64(18.58153846153846), 'MERCADO PAGO': np.float64(1095.7361818181819), 'MERCADOPAGO': np.float64(594.5909999999999), 'NETFLIX': np.float64(36.580384615384624), 'RAPPI': np.float64(92.62714285714286), 'RAPPIPRO': np.float64(12.76), 'TOTALPLAY': np.float64(101.3321818181818), 'UNDOSTRES': np.float64(104.05769230769229)}}\n",
      "Predicted Subscriptions Next Month:\n",
      "        comercio  monto  anio  mes dia\n",
      "0  AMAZON PRIME  11.62  2023    2   2\n",
      "1   CRUNCHYROLL  17.36  2023    2  26\n",
      "Iconic Commerce: DIDI RIDES\n",
      "Iconic Count: 1\n"
     ]
    },
    {
     "name": "stderr",
     "output_type": "stream",
     "text": [
      "/opt/homebrew/lib/python3.11/site-packages/sklearn/utils/validation.py:2739: UserWarning: X does not have valid feature names, but LinearRegression was fitted with feature names\n",
      "  warnings.warn(\n",
      "/opt/homebrew/lib/python3.11/site-packages/sklearn/utils/validation.py:2739: UserWarning: X does not have valid feature names, but LinearRegression was fitted with feature names\n",
      "  warnings.warn(\n",
      "/opt/homebrew/lib/python3.11/site-packages/sklearn/utils/validation.py:2739: UserWarning: X does not have valid feature names, but LinearRegression was fitted with feature names\n",
      "  warnings.warn(\n",
      "/opt/homebrew/lib/python3.11/site-packages/sklearn/utils/validation.py:2739: UserWarning: X does not have valid feature names, but LinearRegression was fitted with feature names\n",
      "  warnings.warn(\n",
      "/opt/homebrew/lib/python3.11/site-packages/sklearn/utils/validation.py:2739: UserWarning: X does not have valid feature names, but LinearRegression was fitted with feature names\n",
      "  warnings.warn(\n",
      "/opt/homebrew/lib/python3.11/site-packages/sklearn/utils/validation.py:2739: UserWarning: X does not have valid feature names, but LinearRegression was fitted with feature names\n",
      "  warnings.warn(\n",
      "/opt/homebrew/lib/python3.11/site-packages/sklearn/utils/validation.py:2739: UserWarning: X does not have valid feature names, but LinearRegression was fitted with feature names\n",
      "  warnings.warn(\n",
      "/opt/homebrew/lib/python3.11/site-packages/sklearn/utils/validation.py:2739: UserWarning: X does not have valid feature names, but LinearRegression was fitted with feature names\n",
      "  warnings.warn(\n",
      "/opt/homebrew/lib/python3.11/site-packages/sklearn/utils/validation.py:2739: UserWarning: X does not have valid feature names, but LinearRegression was fitted with feature names\n",
      "  warnings.warn(\n",
      "/opt/homebrew/lib/python3.11/site-packages/sklearn/utils/validation.py:2739: UserWarning: X does not have valid feature names, but LinearRegression was fitted with feature names\n",
      "  warnings.warn(\n",
      "/opt/homebrew/lib/python3.11/site-packages/sklearn/utils/validation.py:2739: UserWarning: X does not have valid feature names, but LinearRegression was fitted with feature names\n",
      "  warnings.warn(\n",
      "/opt/homebrew/lib/python3.11/site-packages/sklearn/utils/validation.py:2739: UserWarning: X does not have valid feature names, but LinearRegression was fitted with feature names\n",
      "  warnings.warn(\n",
      "/opt/homebrew/lib/python3.11/site-packages/sklearn/utils/validation.py:2739: UserWarning: X does not have valid feature names, but LinearRegression was fitted with feature names\n",
      "  warnings.warn(\n",
      "/opt/homebrew/lib/python3.11/site-packages/sklearn/utils/validation.py:2739: UserWarning: X does not have valid feature names, but LinearRegression was fitted with feature names\n",
      "  warnings.warn(\n",
      "/opt/homebrew/lib/python3.11/site-packages/sklearn/utils/validation.py:2739: UserWarning: X does not have valid feature names, but LinearRegression was fitted with feature names\n",
      "  warnings.warn(\n",
      "/opt/homebrew/lib/python3.11/site-packages/sklearn/utils/validation.py:2739: UserWarning: X does not have valid feature names, but LinearRegression was fitted with feature names\n",
      "  warnings.warn(\n"
     ]
    }
   ],
   "source": [
    "user_id = '01d12d1c5b58348995b71cf1d5eb9257fa64d95b'  # Replace with a real user ID\n",
    "user_df = df[df['id'] == user_id]\n",
    "\n",
    "all_predictions_result = all_predictions(user_id)\n",
    "if all_predictions_result:\n",
    "    print(\"Total Spending Next Month:\", all_predictions_result['total_spending'])\n",
    "    print(\"Per Merchant Spending Next Month:\", all_predictions_result['per_merchant_spending'])\n",
    "    print(\"Predicted Subscriptions Next Month:\\n\", all_predictions_result['predicted_subs'])\n",
    "    print(\"Iconic Commerce:\", all_predictions_result['iconic_commerce'])\n",
    "    print(\"Iconic Count:\", all_predictions_result['iconic_count'])"
   ]
  },
  {
   "cell_type": "code",
   "execution_count": 21,
   "id": "b62da07b",
   "metadata": {},
   "outputs": [
    {
     "name": "stdout",
     "output_type": "stream",
     "text": [
      "Cutoff date: 2022-10-30 00:00:00\n",
      "Most recent date: 2023-01-30 00:00:00\n",
      "Next month: 2, Next year: 2023\n"
     ]
    },
    {
     "data": {
      "application/vnd.microsoft.datawrangler.viewer.v0+json": {
       "columns": [
        {
         "name": "index",
         "rawType": "int64",
         "type": "integer"
        },
        {
         "name": "comercio",
         "rawType": "object",
         "type": "string"
        },
        {
         "name": "monto",
         "rawType": "float64",
         "type": "float"
        },
        {
         "name": "anio",
         "rawType": "int64",
         "type": "integer"
        },
        {
         "name": "mes",
         "rawType": "int64",
         "type": "integer"
        },
        {
         "name": "dia",
         "rawType": "object",
         "type": "unknown"
        }
       ],
       "ref": "7ab88200-1f43-4d96-9459-b24e8534bfe6",
       "rows": [
        [
         "0",
         "AMAZON PRIME",
         "11.62",
         "2023",
         "2",
         "2"
        ],
        [
         "1",
         "CRUNCHYROLL",
         "17.36",
         "2023",
         "2",
         "26"
        ]
       ],
       "shape": {
        "columns": 5,
        "rows": 2
       }
      },
      "text/html": [
       "<div>\n",
       "<style scoped>\n",
       "    .dataframe tbody tr th:only-of-type {\n",
       "        vertical-align: middle;\n",
       "    }\n",
       "\n",
       "    .dataframe tbody tr th {\n",
       "        vertical-align: top;\n",
       "    }\n",
       "\n",
       "    .dataframe thead th {\n",
       "        text-align: right;\n",
       "    }\n",
       "</style>\n",
       "<table border=\"1\" class=\"dataframe\">\n",
       "  <thead>\n",
       "    <tr style=\"text-align: right;\">\n",
       "      <th></th>\n",
       "      <th>comercio</th>\n",
       "      <th>monto</th>\n",
       "      <th>anio</th>\n",
       "      <th>mes</th>\n",
       "      <th>dia</th>\n",
       "    </tr>\n",
       "  </thead>\n",
       "  <tbody>\n",
       "    <tr>\n",
       "      <th>0</th>\n",
       "      <td>AMAZON PRIME</td>\n",
       "      <td>11.62</td>\n",
       "      <td>2023</td>\n",
       "      <td>2</td>\n",
       "      <td>2</td>\n",
       "    </tr>\n",
       "    <tr>\n",
       "      <th>1</th>\n",
       "      <td>CRUNCHYROLL</td>\n",
       "      <td>17.36</td>\n",
       "      <td>2023</td>\n",
       "      <td>2</td>\n",
       "      <td>26</td>\n",
       "    </tr>\n",
       "  </tbody>\n",
       "</table>\n",
       "</div>"
      ],
      "text/plain": [
       "       comercio  monto  anio  mes dia\n",
       "0  AMAZON PRIME  11.62  2023    2   2\n",
       "1   CRUNCHYROLL  17.36  2023    2  26"
      ]
     },
     "execution_count": 21,
     "metadata": {},
     "output_type": "execute_result"
    }
   ],
   "source": [
    "predict_next_month_subscriptions(user_id)"
   ]
  }
 ],
 "metadata": {
  "kernelspec": {
   "display_name": "Python 3",
   "language": "python",
   "name": "python3"
  },
  "language_info": {
   "codemirror_mode": {
    "name": "ipython",
    "version": 3
   },
   "file_extension": ".py",
   "mimetype": "text/x-python",
   "name": "python",
   "nbconvert_exporter": "python",
   "pygments_lexer": "ipython3",
   "version": "3.11.11"
  }
 },
 "nbformat": 4,
 "nbformat_minor": 5
}
