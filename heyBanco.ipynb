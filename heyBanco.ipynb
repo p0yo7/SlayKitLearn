{
 "cells": [
  {
   "cell_type": "code",
   "execution_count": 1,
   "id": "e10c6c77",
   "metadata": {},
   "outputs": [
    {
     "name": "stdout",
     "output_type": "stream",
     "text": [
      "Requirement already satisfied: pandas in /opt/anaconda3/envs/myenv/lib/python3.9/site-packages (2.2.3)\n",
      "Requirement already satisfied: numpy in /opt/anaconda3/envs/myenv/lib/python3.9/site-packages (1.26.4)\n",
      "Requirement already satisfied: scikit-learn in /opt/anaconda3/envs/myenv/lib/python3.9/site-packages (1.6.1)\n",
      "Requirement already satisfied: python-dateutil>=2.8.2 in /opt/anaconda3/envs/myenv/lib/python3.9/site-packages (from pandas) (2.9.0)\n",
      "Requirement already satisfied: pytz>=2020.1 in /opt/anaconda3/envs/myenv/lib/python3.9/site-packages (from pandas) (2025.2)\n",
      "Requirement already satisfied: tzdata>=2022.7 in /opt/anaconda3/envs/myenv/lib/python3.9/site-packages (from pandas) (2025.2)\n",
      "Requirement already satisfied: scipy>=1.6.0 in /opt/anaconda3/envs/myenv/lib/python3.9/site-packages (from scikit-learn) (1.13.1)\n",
      "Requirement already satisfied: joblib>=1.2.0 in /opt/anaconda3/envs/myenv/lib/python3.9/site-packages (from scikit-learn) (1.4.2)\n",
      "Requirement already satisfied: threadpoolctl>=3.1.0 in /opt/anaconda3/envs/myenv/lib/python3.9/site-packages (from scikit-learn) (3.6.0)\n",
      "Requirement already satisfied: six>=1.5 in /opt/anaconda3/envs/myenv/lib/python3.9/site-packages (from python-dateutil>=2.8.2->pandas) (1.16.0)\n",
      "Note: you may need to restart the kernel to use updated packages.\n"
     ]
    }
   ],
   "source": [
    "pip install pandas numpy scikit-learn"
   ]
  },
  {
   "cell_type": "code",
   "execution_count": 2,
   "id": "0f7f8caf",
   "metadata": {},
   "outputs": [
    {
     "name": "stdout",
     "output_type": "stream",
     "text": [
      "MAE (Error absoluto medio): 1.17 días\n"
     ]
    }
   ],
   "source": [
    "import pandas as pd\n",
    "import numpy as np\n",
    "from sklearn.model_selection import train_test_split\n",
    "from sklearn.preprocessing import OneHotEncoder, StandardScaler\n",
    "from sklearn.compose import ColumnTransformer\n",
    "from sklearn.pipeline import Pipeline\n",
    "from sklearn.ensemble import RandomForestRegressor\n",
    "from sklearn.metrics import mean_absolute_error\n",
    "import warnings\n",
    "warnings.filterwarnings(\"ignore\")\n",
    "\n",
    "# === 1. Cargar datos ===\n",
    "transacciones = pd.read_csv(\"datos/base_transacciones_final.csv\", parse_dates=[\"fecha\"])\n",
    "clientes = pd.read_csv(\"datos/base_clientes_final.csv\", parse_dates=[\"fecha_nacimiento\", \"fecha_alta\"])\n",
    "\n",
    "# === 2. Renombrar id a id_cliente para merge\n",
    "transacciones.rename(columns={\"id\": \"id_cliente\"}, inplace=True)\n",
    "clientes.rename(columns={\"id\": \"id_cliente\"}, inplace=True)\n",
    "\n",
    "# === 3. Unir las bases ===\n",
    "df = transacciones.merge(clientes, on=\"id_cliente\", how=\"left\")\n",
    "\n",
    "# === 4. Ordenar por cliente y fecha ===\n",
    "df = df.sort_values(by=[\"id_cliente\", \"fecha\"])\n",
    "\n",
    "# === 5. Calcular días hasta próxima transacción ===\n",
    "df[\"fecha_siguiente\"] = df.groupby(\"id_cliente\")[\"fecha\"].shift(-1)\n",
    "df[\"dias_hasta_proximo\"] = (df[\"fecha_siguiente\"] - df[\"fecha\"]).dt.days\n",
    "df = df.dropna(subset=[\"dias_hasta_proximo\"])\n",
    "\n",
    "# === 6. Features adicionales ===\n",
    "df[\"edad\"] = ((df[\"fecha\"] - df[\"fecha_nacimiento\"]).dt.days / 365).astype(int)\n",
    "df[\"antiguedad\"] = (df[\"fecha\"] - df[\"fecha_alta\"]).dt.days\n",
    "df[\"mes\"] = df[\"fecha\"].dt.month\n",
    "df[\"dia_semana\"] = df[\"fecha\"].dt.weekday\n",
    "df[\"dias_desde_ultimo\"] = df.groupby(\"id_cliente\")[\"fecha\"].diff().dt.days\n",
    "df[\"dias_desde_ultimo\"] = df[\"dias_desde_ultimo\"].fillna(df[\"dias_desde_ultimo\"].median())\n",
    "\n",
    "# === 7. Variables y target ===\n",
    "X = df[[\n",
    "    \"mes\", \"dia_semana\", \"edad\", \"antiguedad\", \"dias_desde_ultimo\",\n",
    "    \"giro_comercio\", \"tipo_venta\", \"genero\", \"actividad_empresarial\", \"tipo_persona\"\n",
    "]]\n",
    "y = df[\"dias_hasta_proximo\"]\n",
    "\n",
    "# === 8. Preprocesamiento ===\n",
    "numeric_features = [\"mes\", \"dia_semana\", \"edad\", \"antiguedad\", \"dias_desde_ultimo\"]\n",
    "categorical_features = [\"giro_comercio\", \"tipo_venta\", \"genero\", \"actividad_empresarial\", \"tipo_persona\"]\n",
    "\n",
    "preprocessor = ColumnTransformer(transformers=[\n",
    "    (\"num\", StandardScaler(), numeric_features),\n",
    "    (\"cat\", OneHotEncoder(handle_unknown='ignore'), categorical_features)\n",
    "])\n",
    "\n",
    "# === 9. Pipeline y modelo ===\n",
    "model = Pipeline(steps=[\n",
    "    (\"preprocessor\", preprocessor),\n",
    "    (\"regressor\", RandomForestRegressor(n_estimators=200, max_depth=15, random_state=42))\n",
    "])\n",
    "\n",
    "# === 10. Entrenamiento ===\n",
    "X_train, X_test, y_train, y_test = train_test_split(X, y, shuffle=False, test_size=0.2)\n",
    "model.fit(X_train, y_train)\n",
    "y_pred = model.predict(X_test)\n",
    "\n",
    "# === 11. Evaluación ===\n",
    "mae = mean_absolute_error(y_test, y_pred)\n",
    "print(f\"MAE (Error absoluto medio): {mae:.2f} días\")\n"
   ]
  },
  {
   "cell_type": "code",
   "execution_count": null,
   "id": "50c4f8f3",
   "metadata": {},
   "outputs": [],
   "source": []
  }
 ],
 "metadata": {
  "kernelspec": {
   "display_name": "myenv",
   "language": "python",
   "name": "python3"
  },
  "language_info": {
   "codemirror_mode": {
    "name": "ipython",
    "version": 3
   },
   "file_extension": ".py",
   "mimetype": "text/x-python",
   "name": "python",
   "nbconvert_exporter": "python",
   "pygments_lexer": "ipython3",
   "version": "3.9.18"
  }
 },
 "nbformat": 4,
 "nbformat_minor": 5
}
